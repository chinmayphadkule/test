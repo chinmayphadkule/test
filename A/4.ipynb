{
 "cells": [
  {
   "cell_type": "code",
   "execution_count": 1,
   "metadata": {
    "colab": {
     "base_uri": "https://localhost:8080/"
    },
    "executionInfo": {
     "elapsed": 4,
     "status": "ok",
     "timestamp": 1678453299598,
     "user": {
      "displayName": "Adwait Deshpande",
      "userId": "01421131392947329220"
     },
     "user_tz": -330
    },
    "id": "2IsOmXyQnDK8",
    "outputId": "b0210a6d-4053-4aa2-ab15-4951ae086eb1"
   },
   "outputs": [
    {
     "name": "stdout",
     "output_type": "stream",
     "text": [
      "(0, 0.5)\n",
      "(0, 0.5)\n"
     ]
    }
   ],
   "source": [
    "import numpy as np\n",
    "\n",
    "class ART1:\n",
    "    def __init__(self, num_input_nodes, num_categories, vigilance):\n",
    "        self.num_input_nodes = num_input_nodes\n",
    "        self.num_categories = num_categories\n",
    "        self.vigilance = vigilance\n",
    "        self.weights = np.ones((num_categories, num_input_nodes))\n",
    "\n",
    "    def learn(self, input_pattern):\n",
    "        while True:\n",
    "            # calculate the response of each category to the input pattern\n",
    "            response = np.dot(self.weights, input_pattern)\n",
    "            # calculate the sum of the weights of each category\n",
    "            weights_sum = np.sum(self.weights, axis=1)\n",
    "            # calculate the activation of each category\n",
    "            activation = response / weights_sum\n",
    "            # find the category with the highest activation\n",
    "            category = np.argmax(activation)\n",
    "            # calculate the match between the input pattern and the category\n",
    "            match = np.sum(np.minimum(self.weights[category], input_pattern))\n",
    "            # calculate the normalized match\n",
    "            normalized_match = match / np.sum(input_pattern)\n",
    "            # if the normalized match is greater than the vigilance, the input pattern\n",
    "            # is assigned to the category, and the weights are updated\n",
    "            if normalized_match > self.vigilance:\n",
    "                self.weights[category] = np.minimum(self.weights[category], input_pattern)\n",
    "                break\n",
    "            # if the normalized match is less than or equal to the vigilance, a new category\n",
    "            # is created with the input pattern as its weights\n",
    "            else:\n",
    "                self.weights = np.vstack([self.weights, input_pattern])\n",
    "                self.num_categories += 1\n",
    "\n",
    "    def classify(self, input_pattern):\n",
    "        # calculate the response of each category to the input pattern\n",
    "        response = np.dot(self.weights, input_pattern)\n",
    "        # calculate the sum of the weights of each category\n",
    "        weights_sum = np.sum(self.weights, axis=1)\n",
    "        # calculate the activation of each category\n",
    "        activation = response / weights_sum\n",
    "        # find the category with the highest activation\n",
    "        category = np.argmax(activation)\n",
    "        # return the category index and its activation\n",
    "        return category, activation[category]\n",
    "\n",
    "# create an ART1 network with 4 input nodes, 3 categories, and vigilance of 0.7\n",
    "network = ART1(4, 3, 0.7)\n",
    "\n",
    "# learn some input patterns\n",
    "network.learn(np.array([1, 0, 1, 0]))\n",
    "network.learn(np.array([0, 1, 0, 1]))\n",
    "network.learn(np.array([1, 1, 0, 0]))\n",
    "\n",
    "# classify some input patterns\n",
    "print(network.classify(np.array([1, 0, 0, 0])))\n",
    "print(network.classify(np.array([0, 1, 1, 0])))\n"
   ]
  }
 ],
 "metadata": {
  "colab": {
   "authorship_tag": "ABX9TyOHKJaSZ0oxiMI7gwA3fgFu",
   "provenance": []
  },
  "kernelspec": {
   "display_name": "Python 3 (ipykernel)",
   "language": "python",
   "name": "python3"
  },
  "language_info": {
   "codemirror_mode": {
    "name": "ipython",
    "version": 3
   },
   "file_extension": ".py",
   "mimetype": "text/x-python",
   "name": "python",
   "nbconvert_exporter": "python",
   "pygments_lexer": "ipython3",
   "version": "3.8.10"
  }
 },
 "nbformat": 4,
 "nbformat_minor": 1
}
